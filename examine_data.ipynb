{
 "cells": [
  {
   "cell_type": "code",
   "execution_count": 1,
   "metadata": {},
   "outputs": [],
   "source": [
    "import requests\n",
    "import urllib\n",
    "from datetime import datetime\n",
    "\n",
    "BASE_URL = 'https://api.prop-odds.com'\n",
    "API_KEY = 'ASuOrhmegRi4uaigRRXS56Uhzszc0qwvKwuO9eVg'"
   ]
  },
  {
   "cell_type": "code",
   "execution_count": 23,
   "metadata": {},
   "outputs": [],
   "source": [
    "def get_request(url):\n",
    "    response = requests.get(url)\n",
    "    if response.status_code == 200:\n",
    "        return response.json()\n",
    "\n",
    "    print('Request failed with status:', response.status_code)\n",
    "    print(response.json()['detail'])\n",
    "    return {}"
   ]
  },
  {
   "cell_type": "code",
   "execution_count": 29,
   "metadata": {},
   "outputs": [],
   "source": [
    "def get_nba_games():\n",
    "    now = datetime.now()\n",
    "    query_params = {\n",
    "        'date': now.strftime('%Y-%m-%d'),\n",
    "        'tz': 'America/New_York',\n",
    "        'api_key': API_KEY,\n",
    "    }\n",
    "    params = urllib.parse.urlencode(query_params)\n",
    "    url = BASE_URL + '/beta/games/nba?' + params\n",
    "    return get_request(url)\n",
    "\n",
    "def get_markets(game_id):\n",
    "    query_params = {\n",
    "        'api_key': API_KEY,\n",
    "    }\n",
    "    params = urllib.parse.urlencode(query_params)\n",
    "    url = BASE_URL + '/beta/markets/' + game_id + '?' + params\n",
    "    return get_request(url)\n",
    "\n",
    "def get_odds_for_game(game_id, market):\n",
    "    query_params = {\n",
    "        'api_key': API_KEY,\n",
    "    }\n",
    "    params = urllib.parse.urlencode(query_params)\n",
    "    url = BASE_URL + '/beta/odds/{game_id}/{market}?{params}'.format(game_id=game_id, market=market, params=params)\n",
    "    return get_request(url)"
   ]
  },
  {
   "cell_type": "code",
   "execution_count": 4,
   "metadata": {},
   "outputs": [
    {
     "name": "stdout",
     "output_type": "stream",
     "text": [
      "date=2023-12-18&tz=America%2FNew_York&api_key=ASuOrhmegRi4uaigRRXS56Uhzszc0qwvKwuO9eVg\n",
      "<class 'dict'>\n",
      "{'league': 'nba', 'date': '2023-12-18', 'games': [{'game_id': '6111f5595082d5678a84cd9bbd6d8f64', 'away_team': 'LA Clippers', 'home_team': 'Indiana Pacers', 'start_timestamp': '2023-12-19T00:00:00Z', 'participants': []}, {'game_id': '89690af06dfe7ede3ebc55d992c262c8', 'away_team': 'Chicago Bulls', 'home_team': 'Philadelphia 76ers', 'start_timestamp': '2023-12-19T00:00:00Z', 'participants': []}, {'game_id': '1bed3b7ff907b3f95ba98df67a71b540', 'away_team': 'Houston Rockets', 'home_team': 'Cleveland Cavaliers', 'start_timestamp': '2023-12-19T00:00:00Z', 'participants': []}, {'game_id': 'b079a36bd80284bea76a78206f9bea64', 'away_team': 'Minnesota Timberwolves', 'home_team': 'Miami Heat', 'start_timestamp': '2023-12-19T00:30:00Z', 'participants': []}, {'game_id': '2ae795b05f997fb0cffcd5280cf5d107', 'away_team': 'Charlotte Hornets', 'home_team': 'Toronto Raptors', 'start_timestamp': '2023-12-19T00:30:00Z', 'participants': []}, {'game_id': '72e682384767e2c3eb34a337d87698ef', 'away_team': 'Detroit Pistons', 'home_team': 'Atlanta Hawks', 'start_timestamp': '2023-12-19T00:30:00Z', 'participants': []}, {'game_id': 'fa8844382130774994cd925e3cdd78bc', 'away_team': 'Memphis Grizzlies', 'home_team': 'Oklahoma City Thunder', 'start_timestamp': '2023-12-19T01:00:00Z', 'participants': []}, {'game_id': '8fda69333d20485e581a526a8b25d0c2', 'away_team': 'Brooklyn Nets', 'home_team': 'Utah Jazz', 'start_timestamp': '2023-12-19T02:00:00Z', 'participants': []}, {'game_id': 'c326f15b2e5dd6780fca5f775127d817', 'away_team': 'Dallas Mavericks', 'home_team': 'Denver Nuggets', 'start_timestamp': '2023-12-19T02:00:00Z', 'participants': []}, {'game_id': '0abbb9e20d68c04d852abebb62aafecc', 'away_team': 'Washington Wizards', 'home_team': 'Sacramento Kings', 'start_timestamp': '2023-12-19T03:00:00Z', 'participants': []}, {'game_id': '725845c53b78b8f460e44c4534500c7d', 'away_team': 'New York Knicks', 'home_team': 'Los Angeles Lakers', 'start_timestamp': '2023-12-19T03:30:00Z', 'participants': []}]}\n"
     ]
    }
   ],
   "source": [
    "games = get_nba_games()\n",
    "# games['games'] returns list of dicts about games today"
   ]
  },
  {
   "cell_type": "code",
   "execution_count": 7,
   "metadata": {},
   "outputs": [
    {
     "name": "stdout",
     "output_type": "stream",
     "text": [
      "['6111f5595082d5678a84cd9bbd6d8f64', '89690af06dfe7ede3ebc55d992c262c8', '1bed3b7ff907b3f95ba98df67a71b540', 'b079a36bd80284bea76a78206f9bea64', '2ae795b05f997fb0cffcd5280cf5d107', '72e682384767e2c3eb34a337d87698ef', 'fa8844382130774994cd925e3cdd78bc', '8fda69333d20485e581a526a8b25d0c2', 'c326f15b2e5dd6780fca5f775127d817', '0abbb9e20d68c04d852abebb62aafecc', '725845c53b78b8f460e44c4534500c7d']\n"
     ]
    }
   ],
   "source": [
    "# get all the game Ids for the games today\n",
    "game_ids = [game['game_id'] for game in games['games']]\n",
    "print(game_ids)"
   ]
  },
  {
   "cell_type": "code",
   "execution_count": 11,
   "metadata": {},
   "outputs": [],
   "source": [
    "markets = get_markets(game_ids[0])"
   ]
  },
  {
   "cell_type": "code",
   "execution_count": null,
   "metadata": {},
   "outputs": [],
   "source": [
    "player_markets = [market['name'] for market in markets['markets'] if market['name'][0:6] == 'player']\n",
    "formatted_list = '\\n'.join(player_markets)\n",
    "print(formatted_list)"
   ]
  },
  {
   "cell_type": "code",
   "execution_count": 30,
   "metadata": {},
   "outputs": [],
   "source": [
    "odds = get_odds_for_game(game_ids[0], 'player_assists_over_under')"
   ]
  },
  {
   "cell_type": "code",
   "execution_count": null,
   "metadata": {},
   "outputs": [],
   "source": [
    "import json\n",
    "print(json.dumps(odds, indent=2))\n"
   ]
  },
  {
   "cell_type": "code",
   "execution_count": 39,
   "metadata": {},
   "outputs": [
    {
     "name": "stdout",
     "output_type": "stream",
     "text": [
      "{'timestamp': '2023-12-18T23:25:23', 'handicap': 0.5, 'odds': -185, 'participant': 17161, 'participant_name': 'Aaron Nesmith', 'name': 'Over 0.5', 'description': 'Aaron Nesmith (IND): Assists'}\n"
     ]
    }
   ],
   "source": [
    "betMGMOdds = [odds_ for odds_ in odds['sportsbooks'] if odds_['bookie_key'] == 'betmgm'][0]\n",
    "# list of dictionaries, each dict is one odd\n",
    "print(betMGMOdds['market']['outcomes'])"
   ]
  }
 ],
 "metadata": {
  "kernelspec": {
   "display_name": "Python 3",
   "language": "python",
   "name": "python3"
  },
  "language_info": {
   "codemirror_mode": {
    "name": "ipython",
    "version": 3
   },
   "file_extension": ".py",
   "mimetype": "text/x-python",
   "name": "python",
   "nbconvert_exporter": "python",
   "pygments_lexer": "ipython3",
   "version": "3.9.1"
  }
 },
 "nbformat": 4,
 "nbformat_minor": 2
}
